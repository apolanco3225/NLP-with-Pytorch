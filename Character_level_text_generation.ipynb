{
  "nbformat": 4,
  "nbformat_minor": 0,
  "metadata": {
    "colab": {
      "name": "Character-level text generation.ipynb",
      "version": "0.3.2",
      "provenance": []
    },
    "kernelspec": {
      "name": "python3",
      "display_name": "Python 3"
    },
    "accelerator": "GPU"
  },
  "cells": [
    {
      "cell_type": "code",
      "metadata": {
        "id": "x4E0VJMKQmuo",
        "colab_type": "code",
        "colab": {
          "base_uri": "https://localhost:8080/",
          "height": 34
        },
        "outputId": "d3e6c6e1-0878-4555-96a8-5740752fc66c"
      },
      "source": [
        "!pip install boltons -q"
      ],
      "execution_count": 1,
      "outputs": [
        {
          "output_type": "stream",
          "text": [
            "\u001b[?25l\r\u001b[K     |██                              | 10kB 22.9MB/s eta 0:00:01\r\u001b[K     |████                            | 20kB 855kB/s eta 0:00:01\r\u001b[K     |██████                          | 30kB 1.3MB/s eta 0:00:01\r\u001b[K     |████████                        | 40kB 844kB/s eta 0:00:01\r\u001b[K     |██████████                      | 51kB 1.1MB/s eta 0:00:01\r\u001b[K     |████████████                    | 61kB 1.3MB/s eta 0:00:01\r\u001b[K     |██████████████                  | 71kB 1.5MB/s eta 0:00:01\r\u001b[K     |████████████████                | 81kB 1.7MB/s eta 0:00:01\r\u001b[K     |██████████████████              | 92kB 1.9MB/s eta 0:00:01\r\u001b[K     |████████████████████            | 102kB 1.4MB/s eta 0:00:01\r\u001b[K     |██████████████████████          | 112kB 1.4MB/s eta 0:00:01\r\u001b[K     |████████████████████████        | 122kB 1.4MB/s eta 0:00:01\r\u001b[K     |██████████████████████████      | 133kB 1.4MB/s eta 0:00:01\r\u001b[K     |████████████████████████████    | 143kB 1.4MB/s eta 0:00:01\r\u001b[K     |██████████████████████████████  | 153kB 1.4MB/s eta 0:00:01\r\u001b[K     |████████████████████████████████| 163kB 1.4MB/s eta 0:00:01\r\u001b[K     |████████████████████████████████| 174kB 1.4MB/s \n",
            "\u001b[?25h"
          ],
          "name": "stdout"
        }
      ]
    },
    {
      "cell_type": "code",
      "metadata": {
        "id": "iePSXQFKOtgb",
        "colab_type": "code",
        "colab": {}
      },
      "source": [
        "import string\n",
        "from pathlib import Path\n",
        "from textwrap import wrap\n",
        "import numpy as np\n",
        "import pandas as pd\n",
        "from boltons.iterutils import windowed\n",
        "from tqdm import tqdm, tqdm_notebook\n",
        "import torch\n",
        "from torch import nn\n",
        "import torch.nn.functional as F\n",
        "from torch import optim\n",
        "from torch.utils.data import Dataset, DataLoader\n",
        "from torch.utils.data.dataset import random_split\n",
        "from torch.nn.utils.rnn import pack_padded_sequence, pad_packed_sequence\n",
        "from google_drive_downloader import GoogleDriveDownloader as gdd"
      ],
      "execution_count": 0,
      "outputs": []
    },
    {
      "cell_type": "code",
      "metadata": {
        "id": "Neu70CUOQuS2",
        "colab_type": "code",
        "colab": {
          "base_uri": "https://localhost:8080/",
          "height": 34
        },
        "outputId": "76295973-ce64-4bf7-a915-bdd95d9e20c6"
      },
      "source": [
        "device = torch.device('cuda' if torch.cuda.is_available() else 'cpu')\n",
        "print(device)"
      ],
      "execution_count": 4,
      "outputs": [
        {
          "output_type": "stream",
          "text": [
            "cuda\n"
          ],
          "name": "stdout"
        }
      ]
    },
    {
      "cell_type": "code",
      "metadata": {
        "id": "Zwwqb7IDQ2YW",
        "colab_type": "code",
        "colab": {
          "base_uri": "https://localhost:8080/",
          "height": 52
        },
        "outputId": "f3a862d4-eb53-43d9-bed7-dfd94d8a8b60"
      },
      "source": [
        "DATA_PATH = 'data/weight_loss/articles.jsonl'\n",
        "if not Path(DATA_PATH).is_file():\n",
        "    gdd.download_file_from_google_drive(\n",
        "        file_id='1mafPreWzE-FyLI0K-MUsXPcnUI0epIcI',\n",
        "        dest_path='data/weight_loss/weight_loss_articles.zip',\n",
        "        unzip=True,\n",
        "    )"
      ],
      "execution_count": 5,
      "outputs": [
        {
          "output_type": "stream",
          "text": [
            "Downloading 1mafPreWzE-FyLI0K-MUsXPcnUI0epIcI into data/weight_loss/weight_loss_articles.zip... Done.\n",
            "Unzipping...Done.\n"
          ],
          "name": "stdout"
        }
      ]
    },
    {
      "cell_type": "code",
      "metadata": {
        "id": "yXWAqhEEQ8Lk",
        "colab_type": "code",
        "colab": {
          "base_uri": "https://localhost:8080/",
          "height": 17
        },
        "outputId": "886209b0-c289-42dd-f5af-2f78c0d0b218"
      },
      "source": [
        "def load_data(path, sequence_length=125):\n",
        "  texts = pd.read_json(path).text.sample(100).str.lower().tolist()\n",
        "  chars_windowed = [list(windowed(text, sequence_length)) for text in texts]\n",
        "  all_chars_windowed = [sublst for lst in chars_windowed for sublst in lst]\n",
        "  filtered_good_chars = [\n",
        "      sequence for sequence in tqdm_notebook(all_chars_windowed)\n",
        "      if all(char in string.printable for char in sequence)\n",
        "  ]\n",
        "  return filtered_good_chars\n",
        "\n",
        "\n",
        "def get_unique_chars(sequences):\n",
        "  return {sublst for lst in sequences for sublst in lst}\n",
        "\n",
        "def create_char2idx(sequences):\n",
        "  unique_chars = get_unique_chars(sequences)\n",
        "  return {char : idx for idx, char in enumerate(sorted(unique_chars))}\n",
        "\n",
        "def encode_sequence(sequence, char2idx):\n",
        "  return [char2idx[char] for char in sequence]\n",
        "\n",
        "\n",
        "def encode_sequences(sequences, char2idx):\n",
        "  return np.array([\n",
        "      encode_sequence(sequence, char2idx)\n",
        "      for sequence in tqdm_notebook(sequences)\n",
        "  ])\n",
        "\n",
        "\n",
        "class Sequences(Dataset):\n",
        "  def __init__(self, path, sequence_length=125):\n",
        "    self.sequences = load_data(DATA_PATH, sequence_length=sequence_length)\n",
        "    self.vocab_size = len(get_unique_chars(self.sequences))\n",
        "    self.char2idx = create_char2idx(self.sequences)\n",
        "    self.idx2char = {idx: char for char, idx in self.char2idx.items()}\n",
        "    self.encoded = encode_sequences(self.sequences, self.char2idx)\n",
        "    \n",
        "    \n",
        "  def __getitem__(self, i):\n",
        "    return self.encoded[i, :-1], self.encoded[i, 1:]\n",
        "  \n",
        "  def __len__(self):\n",
        "    return len(self.encoded)\n",
        "  \n",
        "  \n",
        "dataset  = Sequences(DATA_PATH, sequence_length=128)\n",
        "len(dataset)\n",
        "trainloader = DataLoader(dataset, batch_size=4096)"
      ],
      "execution_count": 15,
      "outputs": [
        {
          "output_type": "display_data",
          "data": {
            "application/vnd.jupyter.widget-view+json": {
              "model_id": "c3ad024406bd4b46af63a148618a8003",
              "version_minor": 0,
              "version_major": 2
            },
            "text/plain": [
              "HBox(children=(IntProgress(value=0, max=253457), HTML(value='')))"
            ]
          },
          "metadata": {
            "tags": []
          }
        },
        {
          "output_type": "display_data",
          "data": {
            "application/vnd.jupyter.widget-view+json": {
              "model_id": "4f531f2c94ff4febb801b64f7ea12028",
              "version_minor": 0,
              "version_major": 2
            },
            "text/plain": [
              "HBox(children=(IntProgress(value=0, max=250433), HTML(value='')))"
            ]
          },
          "metadata": {
            "tags": []
          }
        }
      ]
    },
    {
      "cell_type": "code",
      "metadata": {
        "id": "Ev0iPuVaWIXg",
        "colab_type": "code",
        "colab": {}
      },
      "source": [
        "class RNN(nn.Module):\n",
        "  def __init__(self, vocab_size, embedding_dimension=100, hidden_size=128, n_layers=1, device='cpu',):\n",
        "    super(RNN, self).__init__()\n",
        "    self.n_layers = n_layers\n",
        "    self.hidden_size = hidden_size\n",
        "    self.device = device\n",
        "    self.encoder = nn.Embedding(vocab_size, embedding_dimension)\n",
        "    self.rnn = nn.GRU(embedding_dimension, hidden_size, num_layers=n_layers, batch_first=True,)\n",
        "    self.decoder = nn.Linear(hidden_size, vocab_size)\n",
        "    \n",
        "  def init_hidden(self, batch_size):\n",
        "    return torch.randn(self.n_layers, batch_size, self.hidden_size).to(self.device)\n",
        "  \n",
        "  def forward(self, input_, hidden):\n",
        "    encoded = self.encoder(input_)\n",
        "    output, hidden = self.rnn(encoded.unsqueeze(1), hidden)\n",
        "    output = self.decoder(output.squeeze(1))\n",
        "    return output, hidden\n",
        "  \n",
        "  \n",
        "model =  RNN(vocab_size=dataset.vocab_size, device=device).to(device)\n",
        "\n",
        "criterion = nn.CrossEntropyLoss()\n",
        "optimizer = optim.Adam(\n",
        "  filter(lambda p:p.requires_grad, model.parameters()), \n",
        "  lr=0.001,\n",
        ")"
      ],
      "execution_count": 0,
      "outputs": []
    },
    {
      "cell_type": "code",
      "metadata": {
        "id": "6qzJWnQhY_Q7",
        "colab_type": "code",
        "colab": {
          "base_uri": "https://localhost:8080/",
          "height": 104
        },
        "outputId": "712bbe8d-74fe-4ffe-9451-f744f761677f"
      },
      "source": [
        "print(model)"
      ],
      "execution_count": 18,
      "outputs": [
        {
          "output_type": "stream",
          "text": [
            "RNN(\n",
            "  (encoder): Embedding(60, 100)\n",
            "  (rnn): GRU(100, 128, batch_first=True)\n",
            "  (decoder): Linear(in_features=128, out_features=60, bias=True)\n",
            ")\n"
          ],
          "name": "stdout"
        }
      ]
    },
    {
      "cell_type": "code",
      "metadata": {
        "id": "obe7PV8DZUFf",
        "colab_type": "code",
        "colab": {
          "base_uri": "https://localhost:8080/",
          "height": 156
        },
        "outputId": "8e5fa009-bc6c-4e65-8d29-5ce9e118bf0d"
      },
      "source": [
        "print('Trainable Parameters')\n",
        "print('\\n'.join([' * ' + x[0] for x in model.named_parameters() if x[1].requires_grad]))"
      ],
      "execution_count": 21,
      "outputs": [
        {
          "output_type": "stream",
          "text": [
            "Trainable Parameters\n",
            " * encoder.weight\n",
            " * rnn.weight_ih_l0\n",
            " * rnn.weight_hh_l0\n",
            " * rnn.bias_ih_l0\n",
            " * rnn.bias_hh_l0\n",
            " * decoder.weight\n",
            " * decoder.bias\n"
          ],
          "name": "stdout"
        }
      ]
    },
    {
      "cell_type": "code",
      "metadata": {
        "id": "9Jl650XlZi52",
        "colab_type": "code",
        "colab": {
          "base_uri": "https://localhost:8080/",
          "height": 885
        },
        "outputId": "e855632b-d1c8-4736-f6cf-4f295f6a1582"
      },
      "source": [
        "model.train()\n",
        "train_losses = []\n",
        "for epoch in range(50):\n",
        "  progress_bar = tqdm_notebook(trainloader, leave=False)\n",
        "  losses = []\n",
        "  total = 0\n",
        "  for inputs, targets in progress_bar:\n",
        "    batch_size = inputs.size(0)\n",
        "    hidden = model.init_hidden(batch_size)\n",
        "    \n",
        "    model.zero_grad()\n",
        "    \n",
        "    loss = 0\n",
        "    \n",
        "    for char_idx in range(inputs.size(1)):\n",
        "      output, hidden = model(inputs[:, char_idx].to(device), hidden)\n",
        "      loss += criterion(output, targets[:, char_idx].to(device))\n",
        "      \n",
        "      \n",
        "    loss.backward()\n",
        "    optimizer.step()\n",
        "    \n",
        "    avg_loss = loss.item() / inputs.size(1)\n",
        "    \n",
        "    progress_bar.set_description(f'Loss: {avg_loss:.3f}')\n",
        "    \n",
        "    losses.append(avg_loss)\n",
        "    total += 1\n",
        "    \n",
        "  epoch_loss = sum(losses) / total\n",
        "  train_losses.append(epoch_loss)\n",
        "  \n",
        "  tqdm.write(f'Epoch #{epoch + 1}\\tTrain Loss: {epoch_loss:.3f}')"
      ],
      "execution_count": 22,
      "outputs": [
        {
          "output_type": "display_data",
          "data": {
            "application/vnd.jupyter.widget-view+json": {
              "model_id": "7e03bbb171aa482cae4e86ca2795b84a",
              "version_minor": 0,
              "version_major": 2
            },
            "text/plain": [
              "HBox(children=(IntProgress(value=0, max=62), HTML(value='')))"
            ]
          },
          "metadata": {
            "tags": []
          }
        },
        {
          "output_type": "stream",
          "text": [
            "Epoch #1\tTrain Loss: 2.854\n"
          ],
          "name": "stdout"
        },
        {
          "output_type": "display_data",
          "data": {
            "application/vnd.jupyter.widget-view+json": {
              "model_id": "63219925edd546d7a3d757c7db8de249",
              "version_minor": 0,
              "version_major": 2
            },
            "text/plain": [
              "HBox(children=(IntProgress(value=0, max=62), HTML(value='')))"
            ]
          },
          "metadata": {
            "tags": []
          }
        },
        {
          "output_type": "stream",
          "text": [
            "Epoch #2\tTrain Loss: 2.317\n"
          ],
          "name": "stdout"
        },
        {
          "output_type": "display_data",
          "data": {
            "application/vnd.jupyter.widget-view+json": {
              "model_id": "57d88532515c43eea57497f743cc9591",
              "version_minor": 0,
              "version_major": 2
            },
            "text/plain": [
              "HBox(children=(IntProgress(value=0, max=62), HTML(value='')))"
            ]
          },
          "metadata": {
            "tags": []
          }
        },
        {
          "output_type": "stream",
          "text": [
            "Epoch #3\tTrain Loss: 2.146\n"
          ],
          "name": "stdout"
        },
        {
          "output_type": "display_data",
          "data": {
            "application/vnd.jupyter.widget-view+json": {
              "model_id": "a3aa2f93083e470a916ded8ad6829a60",
              "version_minor": 0,
              "version_major": 2
            },
            "text/plain": [
              "HBox(children=(IntProgress(value=0, max=62), HTML(value='')))"
            ]
          },
          "metadata": {
            "tags": []
          }
        },
        {
          "output_type": "stream",
          "text": [
            "Epoch #4\tTrain Loss: 2.027\n"
          ],
          "name": "stdout"
        },
        {
          "output_type": "display_data",
          "data": {
            "application/vnd.jupyter.widget-view+json": {
              "model_id": "2eb64e84599e46ca950fad05b474d4db",
              "version_minor": 0,
              "version_major": 2
            },
            "text/plain": [
              "HBox(children=(IntProgress(value=0, max=62), HTML(value='')))"
            ]
          },
          "metadata": {
            "tags": []
          }
        },
        {
          "output_type": "stream",
          "text": [
            "Epoch #5\tTrain Loss: 1.936\n"
          ],
          "name": "stdout"
        },
        {
          "output_type": "display_data",
          "data": {
            "application/vnd.jupyter.widget-view+json": {
              "model_id": "7316629279e2463ea0788871c857edb0",
              "version_minor": 0,
              "version_major": 2
            },
            "text/plain": [
              "HBox(children=(IntProgress(value=0, max=62), HTML(value='')))"
            ]
          },
          "metadata": {
            "tags": []
          }
        },
        {
          "output_type": "stream",
          "text": [
            "Epoch #6\tTrain Loss: 1.863\n"
          ],
          "name": "stdout"
        },
        {
          "output_type": "display_data",
          "data": {
            "application/vnd.jupyter.widget-view+json": {
              "model_id": "fe7e227e9d024610bf29043549d0cff9",
              "version_minor": 0,
              "version_major": 2
            },
            "text/plain": [
              "HBox(children=(IntProgress(value=0, max=62), HTML(value='')))"
            ]
          },
          "metadata": {
            "tags": []
          }
        },
        {
          "output_type": "stream",
          "text": [
            "Epoch #7\tTrain Loss: 1.803\n"
          ],
          "name": "stdout"
        },
        {
          "output_type": "display_data",
          "data": {
            "application/vnd.jupyter.widget-view+json": {
              "model_id": "c1e1eb236b8b4e61a3b6280dc71392ff",
              "version_minor": 0,
              "version_major": 2
            },
            "text/plain": [
              "HBox(children=(IntProgress(value=0, max=62), HTML(value='')))"
            ]
          },
          "metadata": {
            "tags": []
          }
        },
        {
          "output_type": "stream",
          "text": [
            "Epoch #8\tTrain Loss: 1.753\n"
          ],
          "name": "stdout"
        },
        {
          "output_type": "display_data",
          "data": {
            "application/vnd.jupyter.widget-view+json": {
              "model_id": "7d226fb1b0ac4aaa86cec949137e2a6f",
              "version_minor": 0,
              "version_major": 2
            },
            "text/plain": [
              "HBox(children=(IntProgress(value=0, max=62), HTML(value='')))"
            ]
          },
          "metadata": {
            "tags": []
          }
        },
        {
          "output_type": "stream",
          "text": [
            "Epoch #9\tTrain Loss: 1.710\n"
          ],
          "name": "stdout"
        },
        {
          "output_type": "display_data",
          "data": {
            "application/vnd.jupyter.widget-view+json": {
              "model_id": "80ee5faee788478d952673049d5e320a",
              "version_minor": 0,
              "version_major": 2
            },
            "text/plain": [
              "HBox(children=(IntProgress(value=0, max=62), HTML(value='')))"
            ]
          },
          "metadata": {
            "tags": []
          }
        },
        {
          "output_type": "stream",
          "text": [
            "Epoch #10\tTrain Loss: 1.674\n"
          ],
          "name": "stdout"
        },
        {
          "output_type": "display_data",
          "data": {
            "application/vnd.jupyter.widget-view+json": {
              "model_id": "0058e52e34fe478bb697e3515e8fccbb",
              "version_minor": 0,
              "version_major": 2
            },
            "text/plain": [
              "HBox(children=(IntProgress(value=0, max=62), HTML(value='')))"
            ]
          },
          "metadata": {
            "tags": []
          }
        },
        {
          "output_type": "stream",
          "text": [
            "Epoch #11\tTrain Loss: 1.642\n"
          ],
          "name": "stdout"
        },
        {
          "output_type": "display_data",
          "data": {
            "application/vnd.jupyter.widget-view+json": {
              "model_id": "3510a385ee7a480ca2ae0d7c18138077",
              "version_minor": 0,
              "version_major": 2
            },
            "text/plain": [
              "HBox(children=(IntProgress(value=0, max=62), HTML(value='')))"
            ]
          },
          "metadata": {
            "tags": []
          }
        },
        {
          "output_type": "stream",
          "text": [
            "Epoch #12\tTrain Loss: 1.614\n"
          ],
          "name": "stdout"
        },
        {
          "output_type": "display_data",
          "data": {
            "application/vnd.jupyter.widget-view+json": {
              "model_id": "9be604a210c3408f85e15f2439380ab2",
              "version_minor": 0,
              "version_major": 2
            },
            "text/plain": [
              "HBox(children=(IntProgress(value=0, max=62), HTML(value='')))"
            ]
          },
          "metadata": {
            "tags": []
          }
        },
        {
          "output_type": "stream",
          "text": [
            "Epoch #13\tTrain Loss: 1.590\n"
          ],
          "name": "stdout"
        },
        {
          "output_type": "display_data",
          "data": {
            "application/vnd.jupyter.widget-view+json": {
              "model_id": "c42d238166fb47a58802999d454a4bcd",
              "version_minor": 0,
              "version_major": 2
            },
            "text/plain": [
              "HBox(children=(IntProgress(value=0, max=62), HTML(value='')))"
            ]
          },
          "metadata": {
            "tags": []
          }
        },
        {
          "output_type": "stream",
          "text": [
            "Epoch #14\tTrain Loss: 1.567\n"
          ],
          "name": "stdout"
        },
        {
          "output_type": "display_data",
          "data": {
            "application/vnd.jupyter.widget-view+json": {
              "model_id": "25625312f59f4b4695a66ce1bf2b396d",
              "version_minor": 0,
              "version_major": 2
            },
            "text/plain": [
              "HBox(children=(IntProgress(value=0, max=62), HTML(value='')))"
            ]
          },
          "metadata": {
            "tags": []
          }
        },
        {
          "output_type": "stream",
          "text": [
            "Epoch #15\tTrain Loss: 1.547\n"
          ],
          "name": "stdout"
        },
        {
          "output_type": "display_data",
          "data": {
            "application/vnd.jupyter.widget-view+json": {
              "model_id": "889eded6e4084c559fb0333b2f62be39",
              "version_minor": 0,
              "version_major": 2
            },
            "text/plain": [
              "HBox(children=(IntProgress(value=0, max=62), HTML(value='')))"
            ]
          },
          "metadata": {
            "tags": []
          }
        },
        {
          "output_type": "stream",
          "text": [
            "Epoch #16\tTrain Loss: 1.529\n"
          ],
          "name": "stdout"
        },
        {
          "output_type": "display_data",
          "data": {
            "application/vnd.jupyter.widget-view+json": {
              "model_id": "d4cb35e81a634204b7aeb7c7aad037d3",
              "version_minor": 0,
              "version_major": 2
            },
            "text/plain": [
              "HBox(children=(IntProgress(value=0, max=62), HTML(value='')))"
            ]
          },
          "metadata": {
            "tags": []
          }
        },
        {
          "output_type": "stream",
          "text": [
            "Epoch #17\tTrain Loss: 1.513\n"
          ],
          "name": "stdout"
        },
        {
          "output_type": "display_data",
          "data": {
            "application/vnd.jupyter.widget-view+json": {
              "model_id": "ac4ed8b44fe04864985950a1b76b195d",
              "version_minor": 0,
              "version_major": 2
            },
            "text/plain": [
              "HBox(children=(IntProgress(value=0, max=62), HTML(value='')))"
            ]
          },
          "metadata": {
            "tags": []
          }
        },
        {
          "output_type": "stream",
          "text": [
            "Epoch #18\tTrain Loss: 1.498\n"
          ],
          "name": "stdout"
        },
        {
          "output_type": "display_data",
          "data": {
            "application/vnd.jupyter.widget-view+json": {
              "model_id": "41d93e484b904c188bdabd617fa5c1bc",
              "version_minor": 0,
              "version_major": 2
            },
            "text/plain": [
              "HBox(children=(IntProgress(value=0, max=62), HTML(value='')))"
            ]
          },
          "metadata": {
            "tags": []
          }
        },
        {
          "output_type": "stream",
          "text": [
            "Epoch #19\tTrain Loss: 1.484\n"
          ],
          "name": "stdout"
        },
        {
          "output_type": "display_data",
          "data": {
            "application/vnd.jupyter.widget-view+json": {
              "model_id": "fc1fbc7ac5eb47efbe9e66eae760e927",
              "version_minor": 0,
              "version_major": 2
            },
            "text/plain": [
              "HBox(children=(IntProgress(value=0, max=62), HTML(value='')))"
            ]
          },
          "metadata": {
            "tags": []
          }
        },
        {
          "output_type": "stream",
          "text": [
            "Epoch #20\tTrain Loss: 1.471\n"
          ],
          "name": "stdout"
        },
        {
          "output_type": "display_data",
          "data": {
            "application/vnd.jupyter.widget-view+json": {
              "model_id": "081b6049cf684c2f85f28a02e410bba9",
              "version_minor": 0,
              "version_major": 2
            },
            "text/plain": [
              "HBox(children=(IntProgress(value=0, max=62), HTML(value='')))"
            ]
          },
          "metadata": {
            "tags": []
          }
        },
        {
          "output_type": "stream",
          "text": [
            "Epoch #21\tTrain Loss: 1.459\n"
          ],
          "name": "stdout"
        },
        {
          "output_type": "display_data",
          "data": {
            "application/vnd.jupyter.widget-view+json": {
              "model_id": "4ee69c7a383249b09b4093cafe53be17",
              "version_minor": 0,
              "version_major": 2
            },
            "text/plain": [
              "HBox(children=(IntProgress(value=0, max=62), HTML(value='')))"
            ]
          },
          "metadata": {
            "tags": []
          }
        },
        {
          "output_type": "stream",
          "text": [
            "Epoch #22\tTrain Loss: 1.448\n"
          ],
          "name": "stdout"
        },
        {
          "output_type": "display_data",
          "data": {
            "application/vnd.jupyter.widget-view+json": {
              "model_id": "7084624dbb1a4bd3857232a20259bc0f",
              "version_minor": 0,
              "version_major": 2
            },
            "text/plain": [
              "HBox(children=(IntProgress(value=0, max=62), HTML(value='')))"
            ]
          },
          "metadata": {
            "tags": []
          }
        },
        {
          "output_type": "stream",
          "text": [
            "Epoch #23\tTrain Loss: 1.437\n"
          ],
          "name": "stdout"
        },
        {
          "output_type": "display_data",
          "data": {
            "application/vnd.jupyter.widget-view+json": {
              "model_id": "41bf5b9c51fc46b6aa407308f87e23e9",
              "version_minor": 0,
              "version_major": 2
            },
            "text/plain": [
              "HBox(children=(IntProgress(value=0, max=62), HTML(value='')))"
            ]
          },
          "metadata": {
            "tags": []
          }
        },
        {
          "output_type": "stream",
          "text": [
            "Epoch #24\tTrain Loss: 1.428\n"
          ],
          "name": "stdout"
        },
        {
          "output_type": "display_data",
          "data": {
            "application/vnd.jupyter.widget-view+json": {
              "model_id": "ac25e1b0eafb407a9c6ee18884c8b9ba",
              "version_minor": 0,
              "version_major": 2
            },
            "text/plain": [
              "HBox(children=(IntProgress(value=0, max=62), HTML(value='')))"
            ]
          },
          "metadata": {
            "tags": []
          }
        },
        {
          "output_type": "stream",
          "text": [
            "Epoch #25\tTrain Loss: 1.418\n"
          ],
          "name": "stdout"
        },
        {
          "output_type": "display_data",
          "data": {
            "application/vnd.jupyter.widget-view+json": {
              "model_id": "eca6a789e6a64c809fb761555fc233ee",
              "version_minor": 0,
              "version_major": 2
            },
            "text/plain": [
              "HBox(children=(IntProgress(value=0, max=62), HTML(value='')))"
            ]
          },
          "metadata": {
            "tags": []
          }
        },
        {
          "output_type": "stream",
          "text": [
            "Epoch #26\tTrain Loss: 1.410\n"
          ],
          "name": "stdout"
        },
        {
          "output_type": "display_data",
          "data": {
            "application/vnd.jupyter.widget-view+json": {
              "model_id": "f9c04e53777141cb8bd8c9160465f791",
              "version_minor": 0,
              "version_major": 2
            },
            "text/plain": [
              "HBox(children=(IntProgress(value=0, max=62), HTML(value='')))"
            ]
          },
          "metadata": {
            "tags": []
          }
        },
        {
          "output_type": "stream",
          "text": [
            "Epoch #27\tTrain Loss: 1.401\n"
          ],
          "name": "stdout"
        },
        {
          "output_type": "display_data",
          "data": {
            "application/vnd.jupyter.widget-view+json": {
              "model_id": "285cf09f5cbe41bab687b9d4baec6694",
              "version_minor": 0,
              "version_major": 2
            },
            "text/plain": [
              "HBox(children=(IntProgress(value=0, max=62), HTML(value='')))"
            ]
          },
          "metadata": {
            "tags": []
          }
        },
        {
          "output_type": "stream",
          "text": [
            "Epoch #28\tTrain Loss: 1.394\n"
          ],
          "name": "stdout"
        },
        {
          "output_type": "display_data",
          "data": {
            "application/vnd.jupyter.widget-view+json": {
              "model_id": "8216a8c6ee3a4104a2198c8f4c7576eb",
              "version_minor": 0,
              "version_major": 2
            },
            "text/plain": [
              "HBox(children=(IntProgress(value=0, max=62), HTML(value='')))"
            ]
          },
          "metadata": {
            "tags": []
          }
        },
        {
          "output_type": "stream",
          "text": [
            "Epoch #29\tTrain Loss: 1.386\n"
          ],
          "name": "stdout"
        },
        {
          "output_type": "display_data",
          "data": {
            "application/vnd.jupyter.widget-view+json": {
              "model_id": "82c1a50fcbe8424b82a2bcaa10f92365",
              "version_minor": 0,
              "version_major": 2
            },
            "text/plain": [
              "HBox(children=(IntProgress(value=0, max=62), HTML(value='')))"
            ]
          },
          "metadata": {
            "tags": []
          }
        },
        {
          "output_type": "stream",
          "text": [
            "Epoch #30\tTrain Loss: 1.379\n"
          ],
          "name": "stdout"
        },
        {
          "output_type": "display_data",
          "data": {
            "application/vnd.jupyter.widget-view+json": {
              "model_id": "45c6435fe6384d318ecc3c7cef882225",
              "version_minor": 0,
              "version_major": 2
            },
            "text/plain": [
              "HBox(children=(IntProgress(value=0, max=62), HTML(value='')))"
            ]
          },
          "metadata": {
            "tags": []
          }
        },
        {
          "output_type": "stream",
          "text": [
            "Epoch #31\tTrain Loss: 1.373\n"
          ],
          "name": "stdout"
        },
        {
          "output_type": "display_data",
          "data": {
            "application/vnd.jupyter.widget-view+json": {
              "model_id": "4b9d9ad6cae14658ad219e050ea9d48c",
              "version_minor": 0,
              "version_major": 2
            },
            "text/plain": [
              "HBox(children=(IntProgress(value=0, max=62), HTML(value='')))"
            ]
          },
          "metadata": {
            "tags": []
          }
        },
        {
          "output_type": "stream",
          "text": [
            "Epoch #32\tTrain Loss: 1.366\n"
          ],
          "name": "stdout"
        },
        {
          "output_type": "display_data",
          "data": {
            "application/vnd.jupyter.widget-view+json": {
              "model_id": "afdcbe329d5946009d9c19a6fd273959",
              "version_minor": 0,
              "version_major": 2
            },
            "text/plain": [
              "HBox(children=(IntProgress(value=0, max=62), HTML(value='')))"
            ]
          },
          "metadata": {
            "tags": []
          }
        },
        {
          "output_type": "stream",
          "text": [
            "Epoch #33\tTrain Loss: 1.360\n"
          ],
          "name": "stdout"
        },
        {
          "output_type": "display_data",
          "data": {
            "application/vnd.jupyter.widget-view+json": {
              "model_id": "e622541c51914359a7fcb7b7d5ea114f",
              "version_minor": 0,
              "version_major": 2
            },
            "text/plain": [
              "HBox(children=(IntProgress(value=0, max=62), HTML(value='')))"
            ]
          },
          "metadata": {
            "tags": []
          }
        },
        {
          "output_type": "stream",
          "text": [
            "Epoch #34\tTrain Loss: 1.355\n"
          ],
          "name": "stdout"
        },
        {
          "output_type": "display_data",
          "data": {
            "application/vnd.jupyter.widget-view+json": {
              "model_id": "7d082163984342f1a41c40319223e8b7",
              "version_minor": 0,
              "version_major": 2
            },
            "text/plain": [
              "HBox(children=(IntProgress(value=0, max=62), HTML(value='')))"
            ]
          },
          "metadata": {
            "tags": []
          }
        },
        {
          "output_type": "stream",
          "text": [
            "Epoch #35\tTrain Loss: 1.349\n"
          ],
          "name": "stdout"
        },
        {
          "output_type": "display_data",
          "data": {
            "application/vnd.jupyter.widget-view+json": {
              "model_id": "ea6b3f02b19448f08c66b800ad279339",
              "version_minor": 0,
              "version_major": 2
            },
            "text/plain": [
              "HBox(children=(IntProgress(value=0, max=62), HTML(value='')))"
            ]
          },
          "metadata": {
            "tags": []
          }
        },
        {
          "output_type": "stream",
          "text": [
            "Epoch #36\tTrain Loss: 1.344\n"
          ],
          "name": "stdout"
        },
        {
          "output_type": "display_data",
          "data": {
            "application/vnd.jupyter.widget-view+json": {
              "model_id": "19c2803d48cc476683729cedf81e102f",
              "version_minor": 0,
              "version_major": 2
            },
            "text/plain": [
              "HBox(children=(IntProgress(value=0, max=62), HTML(value='')))"
            ]
          },
          "metadata": {
            "tags": []
          }
        },
        {
          "output_type": "stream",
          "text": [
            "Epoch #37\tTrain Loss: 1.339\n"
          ],
          "name": "stdout"
        },
        {
          "output_type": "display_data",
          "data": {
            "application/vnd.jupyter.widget-view+json": {
              "model_id": "e297ffbd0b2e40be9edd12b6d3e021b3",
              "version_minor": 0,
              "version_major": 2
            },
            "text/plain": [
              "HBox(children=(IntProgress(value=0, max=62), HTML(value='')))"
            ]
          },
          "metadata": {
            "tags": []
          }
        },
        {
          "output_type": "stream",
          "text": [
            "Epoch #38\tTrain Loss: 1.334\n"
          ],
          "name": "stdout"
        },
        {
          "output_type": "display_data",
          "data": {
            "application/vnd.jupyter.widget-view+json": {
              "model_id": "94a409bfcd884452af14fe013a007d9a",
              "version_minor": 0,
              "version_major": 2
            },
            "text/plain": [
              "HBox(children=(IntProgress(value=0, max=62), HTML(value='')))"
            ]
          },
          "metadata": {
            "tags": []
          }
        },
        {
          "output_type": "stream",
          "text": [
            "Epoch #39\tTrain Loss: 1.329\n"
          ],
          "name": "stdout"
        },
        {
          "output_type": "display_data",
          "data": {
            "application/vnd.jupyter.widget-view+json": {
              "model_id": "83852bb4cc4a4f03b76657715e891b6d",
              "version_minor": 0,
              "version_major": 2
            },
            "text/plain": [
              "HBox(children=(IntProgress(value=0, max=62), HTML(value='')))"
            ]
          },
          "metadata": {
            "tags": []
          }
        },
        {
          "output_type": "stream",
          "text": [
            "Epoch #40\tTrain Loss: 1.325\n"
          ],
          "name": "stdout"
        },
        {
          "output_type": "display_data",
          "data": {
            "application/vnd.jupyter.widget-view+json": {
              "model_id": "68c18c1066b44f66b0433453104c738c",
              "version_minor": 0,
              "version_major": 2
            },
            "text/plain": [
              "HBox(children=(IntProgress(value=0, max=62), HTML(value='')))"
            ]
          },
          "metadata": {
            "tags": []
          }
        },
        {
          "output_type": "stream",
          "text": [
            "Epoch #41\tTrain Loss: 1.321\n"
          ],
          "name": "stdout"
        },
        {
          "output_type": "display_data",
          "data": {
            "application/vnd.jupyter.widget-view+json": {
              "model_id": "80d999911de24d88a2b64d4b2ce59a1b",
              "version_minor": 0,
              "version_major": 2
            },
            "text/plain": [
              "HBox(children=(IntProgress(value=0, max=62), HTML(value='')))"
            ]
          },
          "metadata": {
            "tags": []
          }
        },
        {
          "output_type": "stream",
          "text": [
            "Epoch #42\tTrain Loss: 1.316\n"
          ],
          "name": "stdout"
        },
        {
          "output_type": "display_data",
          "data": {
            "application/vnd.jupyter.widget-view+json": {
              "model_id": "712b29202f07436880bd32ecd71b4f82",
              "version_minor": 0,
              "version_major": 2
            },
            "text/plain": [
              "HBox(children=(IntProgress(value=0, max=62), HTML(value='')))"
            ]
          },
          "metadata": {
            "tags": []
          }
        },
        {
          "output_type": "stream",
          "text": [
            "Epoch #43\tTrain Loss: 1.312\n"
          ],
          "name": "stdout"
        },
        {
          "output_type": "display_data",
          "data": {
            "application/vnd.jupyter.widget-view+json": {
              "model_id": "704b2421160343d58f99401e21d6ad06",
              "version_minor": 0,
              "version_major": 2
            },
            "text/plain": [
              "HBox(children=(IntProgress(value=0, max=62), HTML(value='')))"
            ]
          },
          "metadata": {
            "tags": []
          }
        },
        {
          "output_type": "stream",
          "text": [
            "Epoch #44\tTrain Loss: 1.308\n"
          ],
          "name": "stdout"
        },
        {
          "output_type": "display_data",
          "data": {
            "application/vnd.jupyter.widget-view+json": {
              "model_id": "2a41f121d4d24d78a78d60b1cd46be55",
              "version_minor": 0,
              "version_major": 2
            },
            "text/plain": [
              "HBox(children=(IntProgress(value=0, max=62), HTML(value='')))"
            ]
          },
          "metadata": {
            "tags": []
          }
        },
        {
          "output_type": "stream",
          "text": [
            "Epoch #45\tTrain Loss: 1.305\n"
          ],
          "name": "stdout"
        },
        {
          "output_type": "display_data",
          "data": {
            "application/vnd.jupyter.widget-view+json": {
              "model_id": "7dea70bcc224476b8d59c9fbc20573e0",
              "version_minor": 0,
              "version_major": 2
            },
            "text/plain": [
              "HBox(children=(IntProgress(value=0, max=62), HTML(value='')))"
            ]
          },
          "metadata": {
            "tags": []
          }
        },
        {
          "output_type": "stream",
          "text": [
            "Epoch #46\tTrain Loss: 1.301\n"
          ],
          "name": "stdout"
        },
        {
          "output_type": "display_data",
          "data": {
            "application/vnd.jupyter.widget-view+json": {
              "model_id": "551c7c493229415d87207fa6d62ed996",
              "version_minor": 0,
              "version_major": 2
            },
            "text/plain": [
              "HBox(children=(IntProgress(value=0, max=62), HTML(value='')))"
            ]
          },
          "metadata": {
            "tags": []
          }
        },
        {
          "output_type": "stream",
          "text": [
            "Epoch #47\tTrain Loss: 1.297\n"
          ],
          "name": "stdout"
        },
        {
          "output_type": "display_data",
          "data": {
            "application/vnd.jupyter.widget-view+json": {
              "model_id": "ceaee76c05254f59b37c492fb58a9b7f",
              "version_minor": 0,
              "version_major": 2
            },
            "text/plain": [
              "HBox(children=(IntProgress(value=0, max=62), HTML(value='')))"
            ]
          },
          "metadata": {
            "tags": []
          }
        },
        {
          "output_type": "stream",
          "text": [
            "Epoch #48\tTrain Loss: 1.294\n"
          ],
          "name": "stdout"
        },
        {
          "output_type": "display_data",
          "data": {
            "application/vnd.jupyter.widget-view+json": {
              "model_id": "4b131b8849b9425a8dd348cb6dc18e54",
              "version_minor": 0,
              "version_major": 2
            },
            "text/plain": [
              "HBox(children=(IntProgress(value=0, max=62), HTML(value='')))"
            ]
          },
          "metadata": {
            "tags": []
          }
        },
        {
          "output_type": "stream",
          "text": [
            "Epoch #49\tTrain Loss: 1.291\n"
          ],
          "name": "stdout"
        },
        {
          "output_type": "display_data",
          "data": {
            "application/vnd.jupyter.widget-view+json": {
              "model_id": "aee424ba31fc46e88811bd165f3d2d2d",
              "version_minor": 0,
              "version_major": 2
            },
            "text/plain": [
              "HBox(children=(IntProgress(value=0, max=62), HTML(value='')))"
            ]
          },
          "metadata": {
            "tags": []
          }
        },
        {
          "output_type": "stream",
          "text": [
            "Epoch #50\tTrain Loss: 1.287\n"
          ],
          "name": "stdout"
        }
      ]
    },
    {
      "cell_type": "code",
      "metadata": {
        "id": "KM8QoZUCbbvm",
        "colab_type": "code",
        "colab": {
          "base_uri": "https://localhost:8080/",
          "height": 312
        },
        "outputId": "54e2e956-24e7-4668-cfee-fc1dcf4c5ab5"
      },
      "source": [
        "def pretty_print(text):\n",
        "  to_print =''\n",
        "  for paragraph in text.split('\\n'):\n",
        "    to_print += '\\n'.join(wrap(paragraph))\n",
        "    to_print += '\\n'\n",
        "  print(to_print)\n",
        "  \n",
        "temperature = 1.0\n",
        "\n",
        "model.eval()\n",
        "seed = '\\n'\n",
        "text = ''\n",
        "\n",
        "with torch.no_grad():\n",
        "  batch_size = 1\n",
        "  hidden = model.init_hidden(batch_size)\n",
        "  last_char = dataset.char2idx[seed]\n",
        "  for _ in range(1000):\n",
        "    output, hidden = model(torch.LongTensor([last_char]).to(device), hidden)\n",
        "    distribution = output.squeeze().div(temperature).exp()\n",
        "    guess = torch.multinomial(distribution, 1).item()\n",
        "    \n",
        "    last_char = guess\n",
        "    text += dataset.idx2char[guess]\n",
        "    \n",
        "    \n",
        "pretty_print(text)"
      ],
      "execution_count": 23,
      "outputs": [
        {
          "output_type": "stream",
          "text": [
            "this is someone and disease peaking your body feel obstance though\n",
            "that keepinity can have up), you menotuble the reglates then have the\n",
            "body weight, for this abs of your lveating and dellieve high-resquited\n",
            "drees revil perbobiages, whey appearined low. the most appeopnategers\n",
            "are red can 'sinties product. but there are one full stard and what\n",
            "for weight loss, you kee acking for before my diet prow a healthy\n",
            "personally.\n",
            "2. back and simple medication. you may be will almost burn before in\n",
            "jump importance your meat is your meal, what diet posible as exercisk\n",
            "to lose weight, you my vegetables. lost the elopmed food, there are a\n",
            "fed solees from fat, it, you have fried leight would be exconstaning\n",
            "is no love atubed (1 and help you readies up we eat morefoining in\n",
            "food sort plitten is very will be convectibulate weight loss. people\n",
            "alone in any dubue too and is your best with sare yourself stugh and\n",
            "help you to be eating getting per risexintrested 4 back with your\n",
            "diets it. well guided of a\n",
            "\n"
          ],
          "name": "stdout"
        }
      ]
    },
    {
      "cell_type": "code",
      "metadata": {
        "id": "d69XA-8JhmrV",
        "colab_type": "code",
        "colab": {}
      },
      "source": [
        ""
      ],
      "execution_count": 0,
      "outputs": []
    }
  ]
}